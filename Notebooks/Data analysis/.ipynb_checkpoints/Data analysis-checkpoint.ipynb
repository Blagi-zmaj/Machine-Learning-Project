{
 "cells": [
  {
   "cell_type": "markdown",
   "id": "dd8923ea-7a72-4afe-a5c6-d9fd721198fb",
   "metadata": {
    "editable": true,
    "slideshow": {
     "slide_type": ""
    },
    "tags": []
   },
   "source": [
    "# Exploratory data analysis - job offers from justjoinit"
   ]
  },
  {
   "cell_type": "code",
   "execution_count": null,
   "id": "03bc3807-00fc-4523-b46f-7ed530683889",
   "metadata": {},
   "outputs": [],
   "source": [
    "import pandas as pd\n",
    "import numpy as np\n",
    "import matplotlib.pyplot as plt\n",
    "import seaborn as sns"
   ]
  },
  {
   "cell_type": "markdown",
   "id": "82444125-448c-4aef-9f1c-86bb0f4ffa1f",
   "metadata": {},
   "source": [
    "## Set globally to show all data instead ..."
   ]
  },
  {
   "cell_type": "code",
   "execution_count": null,
   "id": "abe0cfa6-e6ae-4907-b2aa-4debcb1e0b52",
   "metadata": {},
   "outputs": [],
   "source": [
    "pd.set_option('display.max_rows', None)\n",
    "pd.set_option('display.max_columns', None)"
   ]
  },
  {
   "cell_type": "markdown",
   "id": "da3e9b8d-ac25-4036-8892-5039e5487161",
   "metadata": {},
   "source": [
    "## Loading and displaying data"
   ]
  },
  {
   "cell_type": "markdown",
   "id": "bd837ffd-d6ff-456f-b0e3-536097b934c3",
   "metadata": {},
   "source": [
    "### Find all files with data"
   ]
  },
  {
   "cell_type": "code",
   "execution_count": null,
   "id": "ae13ffc3-d5aa-4adb-90e7-fe03250df8f1",
   "metadata": {},
   "outputs": [],
   "source": [
    "import glob"
   ]
  },
  {
   "cell_type": "code",
   "execution_count": null,
   "id": "6850d19e-de7f-4282-8e76-402c0c1f2e02",
   "metadata": {},
   "outputs": [],
   "source": [
    "csv_files = glob.glob(\"./Dane/AI & ML/*.csv\")\n",
    "# csv_files"
   ]
  },
  {
   "cell_type": "code",
   "execution_count": null,
   "id": "47ef8a85-b2cd-4cb7-8b0f-ee45c1362f43",
   "metadata": {},
   "outputs": [],
   "source": [
    "import os\n",
    "import re\n",
    "\n",
    "folder = \"./Dane/AI & ML\"\n",
    "wykluczenia = re.compile(r\"tabela_relacyjna|relational_table\", re.IGNORECASE)\n",
    "\n",
    "csv_files = [\n",
    "    os.path.join(folder, f) \n",
    "    for f in os.listdir(folder) \n",
    "    if not wykluczenia.search(f)\n",
    "]\n",
    "len(csv_files)"
   ]
  },
  {
   "cell_type": "code",
   "execution_count": null,
   "id": "cb9cb23d-54ce-4ce8-8cce-3711e7ac53e9",
   "metadata": {},
   "outputs": [],
   "source": [
    "# for file in csv_files:\n",
    "#     print(file)"
   ]
  },
  {
   "cell_type": "markdown",
   "id": "604fb027-ed12-4458-a370-031096404d72",
   "metadata": {},
   "source": [
    "### Concatenate all files to one dataframe"
   ]
  },
  {
   "cell_type": "code",
   "execution_count": null,
   "id": "23d00886-bd77-4bda-8aef-30d1fa1cc511",
   "metadata": {
    "scrolled": true
   },
   "outputs": [],
   "source": [
    "df_list = [pd.read_csv(file) for file in csv_files]\n",
    "# df_list"
   ]
  },
  {
   "cell_type": "code",
   "execution_count": null,
   "id": "77ce464b-75e8-45f1-be08-341ffe5af540",
   "metadata": {
    "scrolled": true
   },
   "outputs": [],
   "source": [
    "import pandas as pd\n",
    "# df_all_offers = pd.concat(df_list[0:5]) # (595, 269)\n",
    "df_all_offers = pd.concat(df_list) # (1199, 308)\n",
    "# df_all_offers"
   ]
  },
  {
   "cell_type": "code",
   "execution_count": null,
   "id": "eabc9d16-9a32-4ac2-ad2a-83ee7973d426",
   "metadata": {},
   "outputs": [],
   "source": [
    "# df_all_offers.to_csv(r\"dane_zlaczone.csv\", index=False)  # r przed ścieżką"
   ]
  },
  {
   "cell_type": "code",
   "execution_count": null,
   "id": "03942007-9dcc-4e92-9df1-73b95b571191",
   "metadata": {},
   "outputs": [],
   "source": [
    "df_all_offers.shape"
   ]
  },
  {
   "cell_type": "code",
   "execution_count": null,
   "id": "d9836031-58c6-4b54-8639-11207521eec4",
   "metadata": {},
   "outputs": [],
   "source": [
    "job_offers = df_all_offers.copy(deep=True)\n",
    "job_offers.shape"
   ]
  },
  {
   "cell_type": "markdown",
   "id": "789ab8e1-adda-458b-be49-4ffef92408c1",
   "metadata": {},
   "source": [
    "### Engineering feature - change nan to 0"
   ]
  },
  {
   "cell_type": "code",
   "execution_count": null,
   "id": "4955c3de-f5f6-466c-829b-66bfdc39b908",
   "metadata": {
    "scrolled": true
   },
   "outputs": [],
   "source": [
    "job_offers.isna().sum()"
   ]
  },
  {
   "cell_type": "code",
   "execution_count": null,
   "id": "2c96c637-e996-495d-91d0-9df135b56bb1",
   "metadata": {},
   "outputs": [],
   "source": [
    "job_offers[job_offers.isna().any(axis=1)].head(3)"
   ]
  },
  {
   "cell_type": "code",
   "execution_count": null,
   "id": "3ac05bad-0beb-48c2-9872-be49d5b793c1",
   "metadata": {},
   "outputs": [],
   "source": [
    "job_offers.loc[:, [\"offer_id\",\t\"title\",\t\"company\",\t\"location\",\t\"salary\",\t\"link\",\t\"type_of_work\",\t\"experience\",\t\"employment_type\",\t\"operating_mode\"]].isna().sum()"
   ]
  },
  {
   "cell_type": "code",
   "execution_count": null,
   "id": "ea0cc810-d23d-4315-8360-fdf9534c3527",
   "metadata": {
    "scrolled": true
   },
   "outputs": [],
   "source": [
    "# job_offers[job_offers.isna().any(axis=1)].fillna(0) # will not update original dataframe!"
   ]
  },
  {
   "cell_type": "code",
   "execution_count": null,
   "id": "c6a9c9f0-d066-46b4-b851-3b00b0481989",
   "metadata": {},
   "outputs": [],
   "source": [
    "job_offers.fillna(0, inplace=True)"
   ]
  },
  {
   "cell_type": "code",
   "execution_count": null,
   "id": "80ba6230-7db3-4dc8-a001-75e42359e4df",
   "metadata": {
    "scrolled": true
   },
   "outputs": [],
   "source": [
    "job_offers.isna().sum().sort_values(ascending=True)"
   ]
  },
  {
   "cell_type": "code",
   "execution_count": null,
   "id": "3bd850b8-7eeb-4926-b691-955df6ce1033",
   "metadata": {},
   "outputs": [],
   "source": [
    "job_offers[job_offers.isna().any(axis=1)]"
   ]
  },
  {
   "cell_type": "code",
   "execution_count": null,
   "id": "00a6858f-bb08-4b63-adc1-ca17232b1098",
   "metadata": {
    "scrolled": true
   },
   "outputs": [],
   "source": [
    "job_offers.reset_index(drop=True, inplace=True)\n",
    "job_offers"
   ]
  },
  {
   "cell_type": "code",
   "execution_count": null,
   "id": "a223b14f-e3c7-41b4-b65e-5329018f849d",
   "metadata": {
    "scrolled": true
   },
   "outputs": [],
   "source": [
    "# job_offers = pd.read_csv(\"./Dane/AI & ML/16_03_2025.csv\")\n",
    "# job_offers.head(50)"
   ]
  },
  {
   "cell_type": "code",
   "execution_count": null,
   "id": "b3eebbb8-c0e8-492e-8003-d42c0e869b76",
   "metadata": {
    "scrolled": true
   },
   "outputs": [],
   "source": [
    "job_offers.loc[:, \"title\"]"
   ]
  },
  {
   "cell_type": "markdown",
   "id": "cf7fc271-1b0b-49b6-b550-13a7453e038a",
   "metadata": {},
   "source": [
    "## Initial Data Exploration"
   ]
  },
  {
   "cell_type": "markdown",
   "id": "0c7efa38-4008-4240-b071-065543729c7d",
   "metadata": {},
   "source": [
    "### Dataframe Shape (rows, columns)"
   ]
  },
  {
   "cell_type": "code",
   "execution_count": null,
   "id": "70983c0d-01fa-49b3-8e7f-628dc0b41654",
   "metadata": {},
   "outputs": [],
   "source": [
    "job_offers.shape"
   ]
  },
  {
   "cell_type": "markdown",
   "id": "3fd95126-4a50-4755-b616-9e07eca0c34a",
   "metadata": {},
   "source": [
    "### Dataframe columns names"
   ]
  },
  {
   "cell_type": "code",
   "execution_count": null,
   "id": "2af99722-9b75-4156-af55-cba7ca4c914a",
   "metadata": {},
   "outputs": [],
   "source": [
    "job_offers.columns"
   ]
  },
  {
   "cell_type": "code",
   "execution_count": null,
   "id": "02a876f9-2636-44e3-88dd-3755b2f10ab5",
   "metadata": {},
   "outputs": [],
   "source": [
    "job_offers.columns[0:11]"
   ]
  },
  {
   "cell_type": "markdown",
   "id": "462e6de0-ee38-4073-a966-cf6a6b5a53cf",
   "metadata": {},
   "source": [
    "### Dataframe data types"
   ]
  },
  {
   "cell_type": "code",
   "execution_count": null,
   "id": "fed21590-ecdc-4341-ac66-3094bec654df",
   "metadata": {},
   "outputs": [],
   "source": [
    "job_offers.dtypes[0:11]"
   ]
  },
  {
   "cell_type": "markdown",
   "id": "49faf804-9cce-43f7-ac60-173e58fc0f14",
   "metadata": {},
   "source": [
    "### Find missing data"
   ]
  },
  {
   "cell_type": "code",
   "execution_count": null,
   "id": "72fc1db4-fbee-400f-adb2-4ef281af2999",
   "metadata": {},
   "outputs": [],
   "source": [
    "sum((job_offers.isna().mean() * 100).round(1))"
   ]
  },
  {
   "cell_type": "code",
   "execution_count": null,
   "id": "a40c7414-ae62-4e69-8e12-3d171e2f439b",
   "metadata": {},
   "outputs": [],
   "source": [
    "job_offers.isna().sum().sum()"
   ]
  },
  {
   "cell_type": "markdown",
   "id": "a240e9c7-7289-4ac1-9c7f-0b0653d9e1e4",
   "metadata": {},
   "source": [
    "### Description statistics"
   ]
  },
  {
   "cell_type": "code",
   "execution_count": null,
   "id": "6357287e-06b8-4a83-a3ff-701a3bf57090",
   "metadata": {},
   "outputs": [],
   "source": [
    "job_offers.describe()"
   ]
  },
  {
   "cell_type": "code",
   "execution_count": null,
   "id": "1591f491-e0b6-44a2-b93c-582c6177d7bf",
   "metadata": {
    "scrolled": true
   },
   "outputs": [],
   "source": [
    "job_offers.info()"
   ]
  },
  {
   "cell_type": "markdown",
   "id": "8a47b244-b0bb-40c5-81cf-9a5a6bc83cea",
   "metadata": {},
   "source": [
    "### Count how often each skill appears in job offers"
   ]
  },
  {
   "cell_type": "code",
   "execution_count": null,
   "id": "a4d45c22-0734-42c1-9810-10424655c6c2",
   "metadata": {
    "scrolled": true
   },
   "outputs": [],
   "source": [
    "job_offers.iloc[:, 11:].sum().sort_values(ascending=False)"
   ]
  },
  {
   "cell_type": "markdown",
   "id": "bafb2d6f-1e4b-4b50-b530-fc7f144fcabf",
   "metadata": {},
   "source": [
    "### Find \"missing\" values (with missing keyword)"
   ]
  },
  {
   "cell_type": "code",
   "execution_count": null,
   "id": "8462caf0-ea30-45f6-a590-530436178f36",
   "metadata": {
    "scrolled": true
   },
   "outputs": [],
   "source": [
    "job_offers.apply(lambda col: col.astype(str).str.contains(r'\\bmissing\\b', case=False, na=False)).sum().sort_values(ascending=False)"
   ]
  },
  {
   "cell_type": "markdown",
   "id": "6fdcf500-44d2-4190-973c-171bbe30ce20",
   "metadata": {},
   "source": [
    "### Delete unnecessary columns"
   ]
  },
  {
   "cell_type": "code",
   "execution_count": null,
   "id": "084c2ce0-c560-4e34-a14f-11aec9af6076",
   "metadata": {},
   "outputs": [],
   "source": [
    "job_offers.columns[0:11]"
   ]
  },
  {
   "cell_type": "code",
   "execution_count": null,
   "id": "d143332b-ccba-4685-8d0c-2beef931e86c",
   "metadata": {
    "scrolled": true
   },
   "outputs": [],
   "source": [
    "# job_offers = job_offers.drop(columns=[\"link\", \"scraped_at\"])\n",
    "# job_offers = job_offers.drop(columns=[\"link\", \"scraped_at\"], errors=\"ignore\")\n",
    "job_offers = job_offers.drop(columns=[\"link\"], errors=\"ignore\")"
   ]
  },
  {
   "cell_type": "code",
   "execution_count": null,
   "id": "aa488f6f-1dbe-434e-a081-3615cfda0aff",
   "metadata": {
    "scrolled": true
   },
   "outputs": [],
   "source": [
    "job_offers"
   ]
  },
  {
   "cell_type": "markdown",
   "id": "a6740734-9b1f-46f8-bdab-58d312e28760",
   "metadata": {},
   "source": [
    "### Group data"
   ]
  },
  {
   "cell_type": "markdown",
   "id": "07adc39a-8714-4e4a-adaa-c92870281446",
   "metadata": {},
   "source": [
    "#### Group by company name"
   ]
  },
  {
   "cell_type": "code",
   "execution_count": null,
   "id": "e9f25a96-b2b0-4519-a76b-5bcd8930fd80",
   "metadata": {
    "scrolled": true
   },
   "outputs": [],
   "source": [
    "job_offers.groupby(\"company\")[\"company\"].count().sort_values(ascending=False)"
   ]
  },
  {
   "cell_type": "code",
   "execution_count": null,
   "id": "e31fbf36-72c7-4f39-96ad-e4dd99a7a2bc",
   "metadata": {
    "scrolled": true
   },
   "outputs": [],
   "source": [
    "job_offers.groupby(['company', 'type_of_work']).size().reset_index(name='count')"
   ]
  },
  {
   "cell_type": "code",
   "execution_count": null,
   "id": "43762a00-d7e5-4fd0-b8d8-c6110750eabc",
   "metadata": {
    "scrolled": true
   },
   "outputs": [],
   "source": [
    "job_offers.groupby(['company', 'type_of_work']).size().reset_index(name='count')[\"company\"].value_counts()"
   ]
  },
  {
   "cell_type": "code",
   "execution_count": null,
   "id": "6d0a8b2c-8c4b-4757-bd40-880684263c54",
   "metadata": {
    "scrolled": true
   },
   "outputs": [],
   "source": [
    "job_offers.groupby(\"company\")[\"type_of_work\"].nunique() > 1"
   ]
  },
  {
   "cell_type": "code",
   "execution_count": null,
   "id": "0d35fef3-89fb-4296-a20a-7eae1b6642db",
   "metadata": {
    "scrolled": true
   },
   "outputs": [],
   "source": [
    "job_offers.groupby(\"company\")[\"type_of_work\"].nunique().reset_index(name=\"unique_type_of_work\")"
   ]
  },
  {
   "cell_type": "markdown",
   "id": "46795314-e984-4046-bfdd-89a54fdff3fe",
   "metadata": {},
   "source": [
    "##### Delete currency and change dtype to int"
   ]
  },
  {
   "cell_type": "code",
   "execution_count": null,
   "id": "5cc4ed80-561e-4af8-ac6c-25e6e7a7c363",
   "metadata": {},
   "outputs": [],
   "source": [
    "jobs_with_salary = job_offers[~job_offers[\"salary\"].str.contains(\"missing\", case=False, na=False)]\n",
    "jobs_with_salary[\"salary\"].value_counts().head()"
   ]
  },
  {
   "cell_type": "code",
   "execution_count": null,
   "id": "261cb658-e808-4c36-b13d-fbfdb0f40ece",
   "metadata": {
    "scrolled": true
   },
   "outputs": [],
   "source": [
    "jobs_with_salary[\"salary\"] = jobs_with_salary[\"salary\"].str.replace(\"PLN/month\", \"\").str.replace(\"PLN/h\", \"\").str.replace(\"PLN/year\", \"\")\n",
    "jobs_with_salary"
   ]
  },
  {
   "cell_type": "markdown",
   "id": "236bb7f0-0b98-41c5-98c6-81c10f76d368",
   "metadata": {},
   "source": [
    "##### Cut salary column to min_salary and max_salary columns (work in progress)"
   ]
  },
  {
   "cell_type": "code",
   "execution_count": null,
   "id": "0666a48d-5653-4e2b-b97c-8d356ec698ff",
   "metadata": {
    "scrolled": true
   },
   "outputs": [],
   "source": [
    "jobs_with_salary[\"salary\"].value_counts()"
   ]
  },
  {
   "cell_type": "code",
   "execution_count": null,
   "id": "5fc5172c-2af4-498d-8995-a5d68f424457",
   "metadata": {},
   "outputs": [],
   "source": [
    "# jobs_with_salary.insert(4, \"min_salary\", jobs_with_salary[\"salary\"].str.split(\"-\").apply(lambda x:x[0]))\n",
    "if \"min_salary\" not in jobs_with_salary.columns:\n",
    "    jobs_with_salary.insert(4, \"min_salary\", jobs_with_salary[\"salary\"].str.split(\"-\").apply(lambda x:x[0]))\n",
    "else:\n",
    "    print(\"Kolumna 'min_salary' już istnieje.\")\n"
   ]
  },
  {
   "cell_type": "code",
   "execution_count": null,
   "id": "f3939929-b5ad-4bf9-8f5a-feb4ae00d49f",
   "metadata": {
    "scrolled": true
   },
   "outputs": [],
   "source": [
    "jobs_with_salary"
   ]
  },
  {
   "cell_type": "code",
   "execution_count": null,
   "id": "4163a010-e10a-4563-bd03-d6f471b79cf4",
   "metadata": {},
   "outputs": [],
   "source": [
    "# jobs_with_salary[\"salary\"].str.split(\"-\").apply(lambda x:x[0].strip().replace(\" \", \"\")).values"
   ]
  },
  {
   "cell_type": "code",
   "execution_count": null,
   "id": "899568df-fc16-471f-a959-594873104382",
   "metadata": {},
   "outputs": [],
   "source": [
    "# pd.to_numeric(jobs_with_salary[\"salary\"].str.split(\"-\").apply(lambda x:x[0].strip().replace(\" \", \"\")).values) < 1000"
   ]
  },
  {
   "cell_type": "code",
   "execution_count": null,
   "id": "040ae341-706e-46df-a49f-5b9038b3866c",
   "metadata": {},
   "outputs": [],
   "source": [
    "(pd.to_numeric(jobs_with_salary[\"salary\"].str.split(\"-\").apply(lambda x:x[0].strip().replace(\" \", \"\")).values) < 1000).sum()"
   ]
  },
  {
   "cell_type": "code",
   "execution_count": null,
   "id": "9bc960ed-50a3-4dc5-bbb1-7445b03bbbfc",
   "metadata": {
    "scrolled": true
   },
   "outputs": [],
   "source": [
    "jobs_with_salary.loc[pd.to_numeric(jobs_with_salary[\"salary\"].str.split(\"-\").apply(lambda x:x[0].strip().replace(\" \", \"\")).values) < 1000, \"min_salary\"] "
   ]
  },
  {
   "cell_type": "code",
   "execution_count": null,
   "id": "6528cc7b-520a-4b54-ab09-f297dacd5823",
   "metadata": {},
   "outputs": [],
   "source": [
    "jobs_with_salary.loc[pd.to_numeric(jobs_with_salary[\"salary\"].str.split(\"-\").apply(lambda x:x[0].strip().replace(\" \", \"\")).values) < 1000, \"min_salary\"].str.strip().values"
   ]
  },
  {
   "cell_type": "code",
   "execution_count": null,
   "id": "894aa93a-5889-41f3-b49a-6d33c10407ed",
   "metadata": {
    "scrolled": true
   },
   "outputs": [],
   "source": [
    "jobs_with_salary.head()"
   ]
  },
  {
   "cell_type": "code",
   "execution_count": null,
   "id": "3acaace6-5d9e-4d7f-8ebb-5a592d9c5f4b",
   "metadata": {},
   "outputs": [],
   "source": [
    "pd.to_numeric(jobs_with_salary.loc[pd.to_numeric(jobs_with_salary[\"salary\"].str.split(\"-\").apply(lambda x:x[0].strip().replace(\" \", \"\")).values) < 1000, \"min_salary\"].str.strip().values) * 168"
   ]
  },
  {
   "cell_type": "code",
   "execution_count": null,
   "id": "f8376f26-a5ce-40a8-82b4-dfba896b3bf7",
   "metadata": {
    "scrolled": true
   },
   "outputs": [],
   "source": [
    "jobs_with_salary.head()"
   ]
  },
  {
   "cell_type": "code",
   "execution_count": null,
   "id": "af749a8e-7a01-4cb6-b564-dd95aedc6020",
   "metadata": {},
   "outputs": [],
   "source": [
    "jobs_with_salary.loc[pd.to_numeric(jobs_with_salary[\"salary\"].str.split(\"-\").apply(lambda x:x[0].strip().replace(\" \", \"\")).values) < 1000, \"min_salary\"].index"
   ]
  },
  {
   "cell_type": "code",
   "execution_count": null,
   "id": "6ff1fc16-23f8-45b9-92f2-a3cc34ee72a7",
   "metadata": {},
   "outputs": [],
   "source": [
    "jobs_with_salary = job_offers[~job_offers[\"salary\"].str.contains(\"missing\", case=False, na=False)]\n",
    "jobs_with_salary[\"salary\"] = jobs_with_salary[\"salary\"].str.replace(\"PLN/month\", \"\").str.replace(\"PLN/h\", \"\").str.replace(\"PLN/year\", \"\")\n",
    "jobs_with_salary\n",
    "jobs_with_salary.insert(4, \"min_salary\", jobs_with_salary[\"salary\"].str.split(\"-\").apply(lambda x:x[0]))"
   ]
  },
  {
   "cell_type": "code",
   "execution_count": null,
   "id": "1aef5778-5664-4be1-a669-9039bada5e71",
   "metadata": {
    "scrolled": true
   },
   "outputs": [],
   "source": [
    "jobs_with_salary"
   ]
  },
  {
   "cell_type": "code",
   "execution_count": null,
   "id": "9eaf0c0f-b88b-4c23-9301-343cbd48f66a",
   "metadata": {},
   "outputs": [],
   "source": [
    "indexes = jobs_with_salary.loc[pd.to_numeric(jobs_with_salary[\"salary\"].str.split(\"-\").apply(lambda x:x[0].strip().replace(\" \", \"\")).values) < 1000, \"min_salary\"].index"
   ]
  },
  {
   "cell_type": "code",
   "execution_count": null,
   "id": "d6600d14-ac39-42de-810d-242ddb7bb78c",
   "metadata": {
    "scrolled": true
   },
   "outputs": [],
   "source": [
    "indexes"
   ]
  },
  {
   "cell_type": "code",
   "execution_count": null,
   "id": "f62b43bb-199c-4c6e-8611-86c162e0631c",
   "metadata": {
    "scrolled": true
   },
   "outputs": [],
   "source": [
    "jobs_with_salary.loc[indexes, \"min_salary\"]"
   ]
  },
  {
   "cell_type": "code",
   "execution_count": null,
   "id": "0955e6e8-13bf-43d0-85b8-e5ef7744ac0c",
   "metadata": {
    "scrolled": true
   },
   "outputs": [],
   "source": [
    "jobs_with_salary.loc[indexes, \"min_salary\"] = jobs_with_salary.loc[indexes, \"min_salary\"].str.replace(\" \", \"\").astype(int) * 168\n",
    "# jobs_with_salary.loc[indexes, \"salary\"] = jobs_with_salary.loc[indexes, \"salary\"].astype(int) * 168"
   ]
  },
  {
   "cell_type": "code",
   "execution_count": null,
   "id": "51915288-ac82-47d4-b703-1d06be3eed9f",
   "metadata": {
    "scrolled": true
   },
   "outputs": [],
   "source": [
    "jobs_with_salary"
   ]
  },
  {
   "cell_type": "code",
   "execution_count": null,
   "id": "4dc51e3e-8392-487b-855b-212cdef31226",
   "metadata": {
    "scrolled": true
   },
   "outputs": [],
   "source": [
    "jobs_with_salary[\"salary\"].str.split(\"-\").apply(lambda x: len(x))"
   ]
  },
  {
   "cell_type": "code",
   "execution_count": null,
   "id": "5f1b3495-3686-438a-97d2-84d9eb2e0aab",
   "metadata": {},
   "outputs": [],
   "source": [
    "(jobs_with_salary[\"salary\"].str.split(\"-\").apply(lambda x: len(x)) < 2).sum()"
   ]
  },
  {
   "cell_type": "markdown",
   "id": "428248f3-0ab5-461e-be99-bbd615d8b4cc",
   "metadata": {},
   "source": [
    "##### Find missing max values of salary (when single value instead of range)"
   ]
  },
  {
   "cell_type": "code",
   "execution_count": null,
   "id": "07817527-4b0f-41e1-b064-647ca9402148",
   "metadata": {
    "scrolled": true
   },
   "outputs": [],
   "source": [
    "test = jobs_with_salary.copy()\n",
    "missing_max_salary_indexes = jobs_with_salary[jobs_with_salary[\"salary\"].str.split(\"-\").apply(lambda x: len(x)) < 2].index\n",
    "missing_max_salary_indexes"
   ]
  },
  {
   "cell_type": "code",
   "execution_count": null,
   "id": "6a52261a-5ebf-4d48-a50b-55cb437b78f4",
   "metadata": {},
   "outputs": [],
   "source": [
    "jobs_with_salary.loc[missing_max_salary_indexes, \"salary\"]"
   ]
  },
  {
   "cell_type": "code",
   "execution_count": null,
   "id": "4690e596-85b2-4846-8376-671000b27d68",
   "metadata": {},
   "outputs": [],
   "source": [
    "# jobs_with_salary.loc[missing_max_salary_indexes, \"salary\"] = int(jobs_with_salary.loc[14, \"salary\"]) * 168 # DO weryfikacji czy potrzebne"
   ]
  },
  {
   "cell_type": "code",
   "execution_count": null,
   "id": "3b9697a6-ba9d-45c5-8470-2c6da1b3685a",
   "metadata": {},
   "outputs": [],
   "source": [
    "jobs_with_salary.loc[missing_max_salary_indexes, \"salary\"]"
   ]
  },
  {
   "cell_type": "code",
   "execution_count": null,
   "id": "cff8bd79-49d3-4066-b436-ea7951dfe477",
   "metadata": {},
   "outputs": [],
   "source": [
    "jobs_with_salary.loc[missing_max_salary_indexes, \"salary\"].values"
   ]
  },
  {
   "cell_type": "code",
   "execution_count": null,
   "id": "f3b7db13-7892-4cd2-93c8-30cfb828bdeb",
   "metadata": {
    "scrolled": true
   },
   "outputs": [],
   "source": [
    "# jobs_with_salary.loc[14, [\"min_salary\", \"salary\"]] # Do weryfikacji czy potrzebne"
   ]
  },
  {
   "cell_type": "code",
   "execution_count": null,
   "id": "d782a71c-6c8a-4770-bd1f-7c487566dca1",
   "metadata": {},
   "outputs": [],
   "source": [
    "jobs_with_salary.loc[missing_max_salary_indexes, \"salary\"] = str(jobs_with_salary.loc[missing_max_salary_indexes, \"salary\"].values[0])\n",
    "# str(jobs_with_salary.loc[missing_max_salary_indexes, \"salary\"].values[0]) + \" - \" + str(jobs_with_salary.loc[missing_max_salary_indexes, \"salary\"].values[0])"
   ]
  },
  {
   "cell_type": "code",
   "execution_count": null,
   "id": "6f899561-d3b1-4d65-a73a-ce82fb9ad3e7",
   "metadata": {},
   "outputs": [],
   "source": [
    "jobs_with_salary.loc[missing_max_salary_indexes, \"salary\"]"
   ]
  },
  {
   "cell_type": "code",
   "execution_count": null,
   "id": "23f5191e-3e60-497f-8a85-fcdf7a318a8a",
   "metadata": {},
   "outputs": [],
   "source": [
    "jobs_with_salary.loc[missing_max_salary_indexes, \"salary\"] = jobs_with_salary.loc[missing_max_salary_indexes, \"salary\"] + \" - \" + jobs_with_salary.loc[missing_max_salary_indexes, \"salary\"]\n",
    "jobs_with_salary.loc[missing_max_salary_indexes, \"salary\"]"
   ]
  },
  {
   "cell_type": "code",
   "execution_count": null,
   "id": "3e550896-a5af-4d29-a7f9-62a1a1c41d50",
   "metadata": {
    "scrolled": true
   },
   "outputs": [],
   "source": [
    "jobs_with_salary.head(3)"
   ]
  },
  {
   "cell_type": "markdown",
   "id": "eda2efa5-3469-4b4c-89b2-425f53b82d98",
   "metadata": {
    "scrolled": true
   },
   "source": [
    "###### MAX Salary"
   ]
  },
  {
   "cell_type": "code",
   "execution_count": null,
   "id": "2edc921c-7940-48fe-af9f-56e68c6eb5f4",
   "metadata": {
    "scrolled": true
   },
   "outputs": [],
   "source": [
    "max_salaries = jobs_with_salary.loc[:, \"salary\"].str.split(\"-\").apply(lambda x: x[1].strip().replace(\" \", \"\"))"
   ]
  },
  {
   "cell_type": "code",
   "execution_count": null,
   "id": "4a9e84c5-b6b0-4f91-9415-2548572b9d13",
   "metadata": {
    "scrolled": true
   },
   "outputs": [],
   "source": [
    "jobs_with_salary.insert(6, \"max_salary\", max_salaries)"
   ]
  },
  {
   "cell_type": "code",
   "execution_count": null,
   "id": "dea642b5-1d72-4cba-b623-697e8ce7c3e8",
   "metadata": {
    "scrolled": true
   },
   "outputs": [],
   "source": [
    "# jobs_with_salary[pd.to_numeric(jobs_with_salary.loc[:, \"max_salary\"]) < 1000]\n",
    "jobs_with_salary.head(3)"
   ]
  },
  {
   "cell_type": "code",
   "execution_count": null,
   "id": "f8d23843-5e96-4913-88f0-0865fd06b08c",
   "metadata": {
    "scrolled": true
   },
   "outputs": [],
   "source": [
    "jobs_with_salary.loc[19]"
   ]
  },
  {
   "cell_type": "code",
   "execution_count": null,
   "id": "88e77e94-9625-4889-a367-93c4c6e0123f",
   "metadata": {
    "scrolled": true
   },
   "outputs": [],
   "source": [
    "jobs_with_salary[\"max_salary\"]"
   ]
  },
  {
   "cell_type": "code",
   "execution_count": null,
   "id": "53c6fb2e-2bb7-4cdf-baae-320ccb0de5a8",
   "metadata": {
    "scrolled": true
   },
   "outputs": [],
   "source": [
    "jobs_with_salary[\"max_salary\"].astype(int) < 1000"
   ]
  },
  {
   "cell_type": "code",
   "execution_count": null,
   "id": "b5cd2ac6-d3ae-46dc-9a53-1e60d07c6f4c",
   "metadata": {
    "scrolled": true
   },
   "outputs": [],
   "source": [
    "jobs_with_salary[(jobs_with_salary[\"max_salary\"].astype(int) < 1000) == True]"
   ]
  },
  {
   "cell_type": "code",
   "execution_count": null,
   "id": "531aa4bc-d725-4df2-9af7-ed13b5c91df1",
   "metadata": {},
   "outputs": [],
   "source": [
    "jobs_with_salary.loc[(jobs_with_salary[\"max_salary\"].astype(int) < 1000) == True, \"max_salary\"] = pd.to_numeric(jobs_with_salary.loc[(jobs_with_salary[\"max_salary\"].astype(int) < 1000) == True, \"max_salary\"]) * 168"
   ]
  },
  {
   "cell_type": "code",
   "execution_count": null,
   "id": "ef8730d4-e5a9-489d-9f22-8e69f00189bf",
   "metadata": {
    "scrolled": true
   },
   "outputs": [],
   "source": [
    "# jobs_with_salary.drop(columns=\"max_salary\", inplace=True)\n",
    "jobs_with_salary.head(100)"
   ]
  },
  {
   "cell_type": "markdown",
   "id": "db66a990-0d9d-47e6-b4ba-f57724d3240f",
   "metadata": {},
   "source": [
    "##### Update min and max salaries to be numbers (int)"
   ]
  },
  {
   "cell_type": "code",
   "execution_count": null,
   "id": "9d04e6b7-b704-4f09-86a0-749c488849b2",
   "metadata": {},
   "outputs": [],
   "source": [
    "pd.to_numeric(\"22 500\" , errors=\"coerce\")"
   ]
  },
  {
   "cell_type": "code",
   "execution_count": null,
   "id": "e8cf6973-e8aa-4856-8138-1fb3c2e4b5e1",
   "metadata": {},
   "outputs": [],
   "source": [
    "# type(jobs_with_salary[\"min_salary\"][0])"
   ]
  },
  {
   "cell_type": "code",
   "execution_count": null,
   "id": "4fdd4517-34d1-4be6-9ff9-a4414e67fb08",
   "metadata": {},
   "outputs": [],
   "source": [
    "# type(jobs_with_salary[\"max_salary\"][0])"
   ]
  },
  {
   "cell_type": "code",
   "execution_count": null,
   "id": "f5bdf49e-9303-4b49-ab94-7456fe5fbc43",
   "metadata": {
    "scrolled": true
   },
   "outputs": [],
   "source": [
    "jobs_with_salary[\"min_salary\"]\n",
    "# jobs_with_salary[\"min_salary\"].str.strip()"
   ]
  },
  {
   "cell_type": "code",
   "execution_count": null,
   "id": "1f3c9654-d63c-49ff-86c4-7429b5189b4b",
   "metadata": {
    "scrolled": true
   },
   "outputs": [],
   "source": [
    "# Poprawa stringów aby były bez przerw\n",
    "jobs_with_salary.loc[:, \"min_salary\"] = jobs_with_salary.loc[:, \"min_salary\"].astype(str).str.strip().str.replace(\" \", \"\")\n",
    "jobs_with_salary.loc[:, \"max_salary\"] = jobs_with_salary.loc[:, \"max_salary\"].astype(str).str.strip().str.replace(\" \", \"\")\n",
    "jobs_with_salary.loc[:, [\"min_salary\", \"max_salary\"]]"
   ]
  },
  {
   "cell_type": "code",
   "execution_count": null,
   "id": "c8a57a2c-f0be-47e0-b390-8e8faa1d6e2b",
   "metadata": {},
   "outputs": [],
   "source": []
  },
  {
   "cell_type": "markdown",
   "id": "c47ce641-1d05-480b-9173-3d7c5761d68b",
   "metadata": {},
   "source": [
    "##### Update salary (include when PLN/h instead of PLN/month) (WORK IN PROGRESS)"
   ]
  },
  {
   "cell_type": "code",
   "execution_count": null,
   "id": "d8960878-8ac9-4d4e-b7e8-2bfdba956ddb",
   "metadata": {},
   "outputs": [],
   "source": [
    "# jobs_with_salary[\"salary\"].str.split(\"-\").apply(lambda x: x[0]).str.strip().str.replace(\" \", \"\").values"
   ]
  },
  {
   "cell_type": "code",
   "execution_count": null,
   "id": "94e61ef9-b9bc-45c4-99dd-c8e09a50a1e5",
   "metadata": {},
   "outputs": [],
   "source": [
    "# pd.to_numeric(jobs_with_salary[\"salary\"].str.split(\"-\").apply(lambda x: x[0]).str.strip().str.replace(\" \", \"\").values) < 1000"
   ]
  },
  {
   "cell_type": "code",
   "execution_count": null,
   "id": "50d88ff3-0d1c-40cd-be4c-8a1b933ea046",
   "metadata": {},
   "outputs": [],
   "source": [
    "salary_before_update = jobs_with_salary[pd.to_numeric(jobs_with_salary[\"salary\"].str.split(\"-\").apply(lambda x: x[0]).str.strip().str.replace(\" \", \"\").values) < 1000][\"salary\"]\n",
    "salary_before_update"
   ]
  },
  {
   "cell_type": "code",
   "execution_count": null,
   "id": "b5693519-6ea4-40a6-8452-04f8bc0f2eb6",
   "metadata": {
    "scrolled": true
   },
   "outputs": [],
   "source": [
    "jobs_with_salary[\"min_salary\"].head()"
   ]
  },
  {
   "cell_type": "code",
   "execution_count": null,
   "id": "b8abaa6e-a7ac-49ab-af78-02f94c923fae",
   "metadata": {
    "scrolled": true
   },
   "outputs": [],
   "source": [
    "# type(jobs_with_salary[\"max_salary\"][0])"
   ]
  },
  {
   "cell_type": "markdown",
   "id": "5d97f68e-e3b0-4520-ac4a-0e9c8d057dda",
   "metadata": {},
   "source": [
    "##### Change min and max salary columns to int"
   ]
  },
  {
   "cell_type": "code",
   "execution_count": null,
   "id": "e2d60cff-0867-4346-bd5b-a30d2f442cc3",
   "metadata": {
    "scrolled": true
   },
   "outputs": [],
   "source": [
    "# min_salaries_num = pd.to_numeric(jobs_with_salary[\"min_salary\"], errors=\"coerce\")\n",
    "# max_salaries_num = pd.to_numeric(jobs_with_salary[\"max_salary\"], errors=\"coerce\")\n",
    "# jobs_with_salary.loc[:, \"min_salary\"] = min_salaries_num.astype(int)\n",
    "# jobs_with_salary.loc[:, \"max_salary\"] = max_salaries_num.astype(int)"
   ]
  },
  {
   "cell_type": "code",
   "execution_count": null,
   "id": "7f29d8bd-47c1-4f1b-969a-5f69f8bc2668",
   "metadata": {},
   "outputs": [],
   "source": [
    "#test if works\n",
    "# print(jobs_with_salary[\"min_salary\"][0] + jobs_with_salary[\"min_salary\"][1])\n",
    "# print(jobs_with_salary[\"max_salary\"][0] + jobs_with_salary[\"max_salary\"][1])"
   ]
  },
  {
   "cell_type": "code",
   "execution_count": null,
   "id": "160b10ea-9f57-4805-b837-74719350a00a",
   "metadata": {
    "scrolled": true
   },
   "outputs": [],
   "source": [
    "# TESTING for ERRORS\n",
    "jobs_with_salary.dtypes"
   ]
  },
  {
   "cell_type": "code",
   "execution_count": null,
   "id": "889f67fb-f587-4f59-bf1c-d83e439da7a9",
   "metadata": {
    "scrolled": true
   },
   "outputs": [],
   "source": [
    "# TESTING for ERRORS\n",
    "# jobs_with_salary[\"min_salary\"] = pd.to_numeric(jobs_with_salary[\"min_salary\"].astype(str).str.replace(\" \", \"\", regex=True), errors=\"coerce\")\n",
    "# jobs_with_salary[\"max_salary\"] = pd.to_numeric(jobs_with_salary[\"max_salary\"].astype(str).str.replace(\" \", \"\", regex=True), errors=\"coerce\")\n",
    "jobs_with_salary.loc[:, \"min_salary\"] = pd.to_numeric(jobs_with_salary.loc[:, \"min_salary\"], errors=\"coerce\")\n",
    "jobs_with_salary.loc[:, \"max_salary\"] = pd.to_numeric(jobs_with_salary.loc[:, \"max_salary\"], errors=\"coerce\")\n",
    "jobs_with_salary[\"min_salary\"] = jobs_with_salary[\"min_salary\"].fillna(0).astype(int)\n",
    "jobs_with_salary[\"max_salary\"] = jobs_with_salary[\"max_salary\"].fillna(0).astype(int)\n",
    "print(jobs_with_salary.dtypes)"
   ]
  },
  {
   "cell_type": "code",
   "execution_count": null,
   "id": "91a57ff1-e800-41ce-acef-96a128600bd5",
   "metadata": {},
   "outputs": [],
   "source": [
    "jobs_with_salary.loc[:, \"salary\"] = jobs_with_salary.loc[:, \"min_salary\"].astype(str) + \" - \" + jobs_with_salary.loc[:, \"max_salary\"].astype(str)\n",
    "jobs_with_salary.loc[:, \"salary\"].head()"
   ]
  },
  {
   "cell_type": "code",
   "execution_count": null,
   "id": "4f83c0cc-53a7-4849-982a-a037989b8f09",
   "metadata": {
    "scrolled": true
   },
   "outputs": [],
   "source": [
    "jobs_with_salary"
   ]
  },
  {
   "cell_type": "code",
   "execution_count": null,
   "id": "ba2bd147-2e55-4398-8b06-a30e122af58a",
   "metadata": {},
   "outputs": [],
   "source": [
    "# After update\n",
    "jobs_with_salary[pd.to_numeric(jobs_with_salary[\"salary\"].str.split(\"-\").apply(lambda x: x[0]).str.strip().str.replace(\" \", \"\").values) < 1000][\"salary\"]"
   ]
  },
  {
   "cell_type": "code",
   "execution_count": null,
   "id": "8311c47f-1d4a-4785-b72b-deeca2c63210",
   "metadata": {},
   "outputs": [],
   "source": [
    "jobs_with_salary.to_csv(r\"dane_zlaczone_z_min_max_salary.csv\", index=False)  # r przed ścieżką\n",
    "jobs_with_salary.to_csv(r\"dane_zlaczone_z_i_bez_salary.csv\", index=False)  # r przed ścieżką"
   ]
  },
  {
   "cell_type": "markdown",
   "id": "9abf51e6-9431-423d-8b82-aa8d6dc36c1c",
   "metadata": {},
   "source": [
    "##### Testing section"
   ]
  },
  {
   "cell_type": "code",
   "execution_count": null,
   "id": "ae4a2ad1-bc55-41bd-84c0-e84a6b21e7d8",
   "metadata": {
    "scrolled": true
   },
   "outputs": [],
   "source": [
    "# test.loc[14, \"salary\"].strip()"
   ]
  },
  {
   "cell_type": "code",
   "execution_count": null,
   "id": "bfe0b07b-5d65-42ff-a8b1-a4772896f8c9",
   "metadata": {},
   "outputs": [],
   "source": [
    "# pd.to_numeric(test.loc[14, \"salary\"].strip())"
   ]
  },
  {
   "cell_type": "code",
   "execution_count": null,
   "id": "b942517a-0c3e-4c87-8cfa-d6257455925e",
   "metadata": {},
   "outputs": [],
   "source": [
    "# pd.to_numeric(test.loc[14, \"salary\"].strip()) * 168"
   ]
  },
  {
   "cell_type": "code",
   "execution_count": null,
   "id": "cc98a0fd-9f28-480a-a5aa-064b0c478712",
   "metadata": {},
   "outputs": [],
   "source": [
    "# test.loc[14, \"salary\"] = pd.to_numeric(test.loc[14, \"salary\"].strip()) * 168\n",
    "# test.loc[14, \"salary\"]"
   ]
  },
  {
   "cell_type": "code",
   "execution_count": null,
   "id": "2099d441-6116-4016-a2df-ba0968bffddd",
   "metadata": {},
   "outputs": [],
   "source": [
    "# test.loc[14, \"salary\"] = 25200 \n",
    "# int(test.loc[14, \"salary\"])\n",
    "# test.loc[14, \"salary\"] = str(test.loc[14, \"salary\"])\n",
    "# test.loc[14, \"salary\"] = test.loc[14, \"salary\"] + \" - \" + test.loc[14, \"salary\"]\n",
    "# type(test.loc[14, \"salary\"])\n",
    "# test.loc[14, \"salary\"]"
   ]
  },
  {
   "cell_type": "code",
   "execution_count": null,
   "id": "e7edf150-4f2a-4be9-8060-5f98f793fedf",
   "metadata": {},
   "outputs": [],
   "source": [
    "# test.loc[[14]]"
   ]
  },
  {
   "cell_type": "code",
   "execution_count": null,
   "id": "63406c03-3ca9-431b-9052-ff4bfec0950a",
   "metadata": {
    "scrolled": true
   },
   "outputs": [],
   "source": [
    "# test.head()"
   ]
  },
  {
   "cell_type": "code",
   "execution_count": null,
   "id": "7343cb29-7001-4d2e-b427-6c8fc68e2553",
   "metadata": {
    "scrolled": true
   },
   "outputs": [],
   "source": [
    "# test.drop(columns=[\"max_salary\"], inplace=True)"
   ]
  },
  {
   "cell_type": "code",
   "execution_count": null,
   "id": "0c977cc8-7381-4964-b796-6a7e3d90a624",
   "metadata": {},
   "outputs": [],
   "source": [
    "# test[\"salary\"].str.split(\"-\").apply(lambda x: x[1])\n",
    "# test.insert(5, \"max_salary\", test[\"salary\"].str.split(\"-\").apply(lambda x: x[1]))"
   ]
  },
  {
   "cell_type": "code",
   "execution_count": null,
   "id": "69ac7e22-b160-4d4f-8e13-08f54e48c066",
   "metadata": {},
   "outputs": [],
   "source": [
    "# test.loc[missing_max_salary_indexes, \"salary\"] "
   ]
  },
  {
   "cell_type": "code",
   "execution_count": null,
   "id": "4ade1429-fc1b-4667-b994-813c6882ee31",
   "metadata": {
    "scrolled": true
   },
   "outputs": [],
   "source": [
    "# test.loc[14]"
   ]
  },
  {
   "cell_type": "code",
   "execution_count": null,
   "id": "548fed36-5846-487a-9b20-fe9ed57b0274",
   "metadata": {
    "scrolled": true
   },
   "outputs": [],
   "source": [
    "# test[[\"min_salary\", \"max_salary\", \"salary\"]]"
   ]
  },
  {
   "cell_type": "markdown",
   "id": "767bb6e3-4fa6-41ee-9e69-f28896996f0d",
   "metadata": {
    "editable": true,
    "slideshow": {
     "slide_type": ""
    },
    "tags": []
   },
   "source": [
    "#### Group by \"experience\", \"operating_mode\", \"employment_type\""
   ]
  },
  {
   "cell_type": "code",
   "execution_count": null,
   "id": "d1079a26-a967-495d-88dd-e7bb296a0dd7",
   "metadata": {},
   "outputs": [],
   "source": [
    "job_offers.head()"
   ]
  },
  {
   "cell_type": "code",
   "execution_count": null,
   "id": "83a34ddc-f3ff-41f5-94c1-b0e1eee90dd5",
   "metadata": {},
   "outputs": [],
   "source": [
    "job_offers.groupby([\"experience\", \"operating_mode\"])[[\"employment_type\"]].value_counts()"
   ]
  },
  {
   "cell_type": "code",
   "execution_count": null,
   "id": "e22cf090-37a5-4757-b89a-f4903da558a0",
   "metadata": {
    "scrolled": true
   },
   "outputs": [],
   "source": [
    "job_offers.groupby([\"experience\", \"operating_mode\"])[[\"employment_type\"]].value_counts().reset_index(name=\"unique_employment_type\")"
   ]
  },
  {
   "cell_type": "code",
   "execution_count": null,
   "id": "0aa126e7-ecf3-4ab0-8435-ed8fa5d3b9d2",
   "metadata": {
    "scrolled": true
   },
   "outputs": [],
   "source": [
    "job_offers.groupby([\"experience\", \"operating_mode\", \"employment_type\"])[\"salary\"].value_counts()"
   ]
  },
  {
   "cell_type": "code",
   "execution_count": null,
   "id": "5a7a8741-8e88-415e-9a95-5698cf42a1dd",
   "metadata": {
    "scrolled": true
   },
   "outputs": [],
   "source": [
    "jobs_with_salary.groupby([\"experience\", \"operating_mode\", \"employment_type\"])[\"salary\"].value_counts()"
   ]
  },
  {
   "cell_type": "code",
   "execution_count": null,
   "id": "20a677f2-69db-46a1-8ce1-f97c01586760",
   "metadata": {
    "scrolled": true
   },
   "outputs": [],
   "source": [
    "jobs_with_salary.groupby([\"experience\", \"operating_mode\", \"employment_type\"])[\"salary\"].value_counts().reset_index()"
   ]
  },
  {
   "cell_type": "markdown",
   "id": "9afbc8e5-a954-44b2-8d14-e9102ed3e0a9",
   "metadata": {},
   "source": [
    "## Analysis of individual features"
   ]
  },
  {
   "cell_type": "markdown",
   "id": "371baa28-4c96-42af-b607-5828c2aa9e1a",
   "metadata": {},
   "source": [
    "#### Salary distribution"
   ]
  },
  {
   "cell_type": "code",
   "execution_count": null,
   "id": "cb5fd424-2c00-468b-9563-fd1823fbf53a",
   "metadata": {
    "editable": true,
    "slideshow": {
     "slide_type": ""
    },
    "tags": []
   },
   "outputs": [],
   "source": [
    "plt.plot( range(len(jobs_with_salary[\"min_salary\"])), jobs_with_salary[\"min_salary\"])\n",
    "plt.plot( range(len(jobs_with_salary[\"max_salary\"])), jobs_with_salary[\"max_salary\"])\n",
    "plt.show()"
   ]
  },
  {
   "cell_type": "code",
   "execution_count": null,
   "id": "2594580b-555c-4d75-a52d-ba7156b25329",
   "metadata": {},
   "outputs": [],
   "source": [
    "jobs_with_salary.columns[:11]"
   ]
  },
  {
   "cell_type": "code",
   "execution_count": null,
   "id": "f6c02af9-6066-4965-8b89-e61bd6516925",
   "metadata": {
    "scrolled": true
   },
   "outputs": [],
   "source": [
    "jobs_with_salary.groupby(\"experience\")[[\"min_salary\", \"max_salary\"]].value_counts()"
   ]
  },
  {
   "cell_type": "code",
   "execution_count": null,
   "id": "480fb319-4fde-46ff-883b-23823bef90e4",
   "metadata": {
    "scrolled": true
   },
   "outputs": [],
   "source": [
    "print(\"====Junior====\")\n",
    "print(jobs_with_salary.groupby(\"experience\").get_group(\"Junior\")[[\"min_salary\", \"max_salary\"]])\n",
    "print(\"====Mid====\")\n",
    "print(jobs_with_salary.groupby(\"experience\").get_group(\"Mid\")[[\"min_salary\", \"max_salary\"]])\n",
    "print(\"====Senior====\")\n",
    "print(jobs_with_salary.groupby(\"experience\").get_group(\"Senior\")[[\"min_salary\", \"max_salary\"]])"
   ]
  },
  {
   "cell_type": "code",
   "execution_count": null,
   "id": "22d74dee-1cc9-4207-9173-33435b6b757c",
   "metadata": {},
   "outputs": [],
   "source": [
    "junior_salaries = jobs_with_salary.groupby(\"experience\").get_group(\"Junior\")[[\"min_salary\", \"max_salary\"]]\n",
    "mid_salaries = jobs_with_salary.groupby(\"experience\").get_group(\"Mid\")[[\"min_salary\", \"max_salary\"]]\n",
    "senior_salaries = jobs_with_salary.groupby(\"experience\").get_group(\"Senior\")[[\"min_salary\", \"max_salary\"]]\n",
    "junior_salaries.loc[:, \"min_salary\"]"
   ]
  },
  {
   "cell_type": "code",
   "execution_count": null,
   "id": "8721282a-8bdc-498d-bac4-9b3b6f1a0950",
   "metadata": {},
   "outputs": [],
   "source": [
    "plt.figure(figsize=(14, 8))\n",
    "# plt.grid()\n",
    "plt.title(\"Job offers with salary\")\n",
    "plt.xlabel(\"Offers count\")\n",
    "plt.ylabel(\"Salary\")\n",
    "plt.scatter(range(len(junior_salaries)), junior_salaries[\"min_salary\"], color=\"red\", label=\"Junior\")\n",
    "plt.scatter(range(len(mid_salaries)), mid_salaries[\"min_salary\"], color=\"#973678\", label=\"Mid\")\n",
    "plt.scatter(range(len(senior_salaries)), senior_salaries[\"min_salary\"], color=\"green\", label=\"Senior\")\n",
    "\n",
    "# plt.xticks\n",
    "plt.legend()"
   ]
  },
  {
   "cell_type": "code",
   "execution_count": null,
   "id": "a480086c-646b-43fe-b57e-ebb1fd2ff66d",
   "metadata": {},
   "outputs": [],
   "source": [
    "jobs_with_salary.head()"
   ]
  },
  {
   "cell_type": "code",
   "execution_count": null,
   "id": "d141b346-dd40-4d7b-94e8-6a3aff07442b",
   "metadata": {},
   "outputs": [],
   "source": [
    "\n",
    "filtered_offers = jobs_with_salary.groupby([\"experience\", \"operating_mode\", \"employment_type\"])[\"min_salary\"].value_counts().reset_index()\n",
    "print(filtered_offers.head())\n",
    "print(\"===============\")\n",
    "# filtered_offers = filtered_offers[filtered_offers[\"experience\"]  == \"Senior\"] \n",
    "# print(filtered_offers.head())\n",
    "# filtered_offers = filtered_offers[filtered_offers[\"operating_mode\"]  == \"Remote\"] \n",
    "# print(filtered_offers.head())\n",
    "# filtered_offers = filtered_offers[filtered_offers[\"employment_type\"]  == \"Permanent\"] \n",
    "# print(filtered_offers.head())\n",
    "# filtered_offers = filtered_offers[filtered_offers[\"employment_type\"].str.contains(\"Permanent\")] \n",
    "# print(filtered_offers.head(10))\n",
    "# print(\"+++++++++++++++++++++++++\")\n",
    "print(filtered_offers[(filtered_offers[\"experience\"]  == \"Senior\") & (filtered_offers[\"operating_mode\"]  == \"Remote\") & (filtered_offers[\"employment_type\"].str.contains(\"Permanent\"))])\n",
    "\n",
    "# filtered_offers\n",
    "# print(filtered_offers.head())"
   ]
  },
  {
   "cell_type": "code",
   "execution_count": null,
   "id": "1533de42-02e0-4456-9bac-ceed04c2a0ec",
   "metadata": {},
   "outputs": [],
   "source": [
    "filtered_offers[(filtered_offers[\"experience\"]  == \"Senior\") & (filtered_offers[\"operating_mode\"]  == \"Remote\") & (filtered_offers[\"employment_type\"].str.contains(\"Permanent\"))]"
   ]
  },
  {
   "cell_type": "code",
   "execution_count": null,
   "id": "28c39067-c3e6-46a4-9971-9c0cd987805d",
   "metadata": {},
   "outputs": [],
   "source": [
    "filtered_offers[(filtered_offers[\"experience\"]  == \"Mid\") & (filtered_offers[\"operating_mode\"]  == \"Remote\") & (filtered_offers[\"employment_type\"].str.contains(\"Permanent\"))]"
   ]
  },
  {
   "cell_type": "code",
   "execution_count": null,
   "id": "cb62afb3-12d3-43fc-a0c3-604268c271ee",
   "metadata": {},
   "outputs": [],
   "source": [
    "filtered_offers[(filtered_offers[\"experience\"]  == \"Mid\") & (filtered_offers[\"operating_mode\"]  == \"Remote\") & (filtered_offers[\"employment_type\"].str.contains(\"B2B\"))]"
   ]
  },
  {
   "cell_type": "markdown",
   "id": "4158eb2a-d67f-4b8c-9719-e461d8ce410a",
   "metadata": {},
   "source": [
    "#### Popularity of technology"
   ]
  },
  {
   "cell_type": "code",
   "execution_count": null,
   "id": "683ce97d-601c-4d5d-82f9-21ee3f51e655",
   "metadata": {
    "scrolled": true
   },
   "outputs": [],
   "source": [
    "job_offers.head()"
   ]
  },
  {
   "cell_type": "code",
   "execution_count": null,
   "id": "172bc37d-8f50-4d2f-b0ee-25a033b5395b",
   "metadata": {},
   "outputs": [],
   "source": [
    "technologies_cols = job_offers.iloc[:, 11:]"
   ]
  },
  {
   "cell_type": "code",
   "execution_count": null,
   "id": "4c0b102d-7fcd-429e-80e3-db74d9220bf0",
   "metadata": {
    "scrolled": true
   },
   "outputs": [],
   "source": [
    "technologies_cols.sum()"
   ]
  },
  {
   "cell_type": "code",
   "execution_count": null,
   "id": "ff5defc7-42e7-462e-b688-be3deb097082",
   "metadata": {
    "scrolled": true
   },
   "outputs": [],
   "source": [
    "ten_most_popular_techs = technologies_cols.sum().sort_values(ascending=False).iloc[0:10]\n",
    "# ten_most_popular_techs.index"
   ]
  },
  {
   "cell_type": "code",
   "execution_count": null,
   "id": "2385af74-e8dc-47bf-b28e-dfda40d4dc68",
   "metadata": {},
   "outputs": [],
   "source": [
    "plt.bar(ten_most_popular_techs.index, ten_most_popular_techs.values)\n",
    "plt.xticks(rotation=45)\n",
    "plt.show()"
   ]
  },
  {
   "cell_type": "code",
   "execution_count": null,
   "id": "fd35aa22-0a1a-4c49-b1c3-45d7e37b0229",
   "metadata": {},
   "outputs": [],
   "source": [
    "plt.barh(ten_most_popular_techs.index, ten_most_popular_techs.values)\n",
    "plt.show()"
   ]
  },
  {
   "cell_type": "markdown",
   "id": "ca969cbb-e538-4f2f-a67e-4d06f978d540",
   "metadata": {},
   "source": [
    "#### Cities with most offers"
   ]
  },
  {
   "cell_type": "code",
   "execution_count": null,
   "id": "871cdb1e-03f9-4e86-a9e7-be55b2586e2d",
   "metadata": {},
   "outputs": [],
   "source": [
    "cities_offers = job_offers.groupby(\"location\")[\"location\"].count().sort_values(ascending=False)[:10]"
   ]
  },
  {
   "cell_type": "code",
   "execution_count": null,
   "id": "4dbb918e-aad8-4faa-b1e3-89249e472abb",
   "metadata": {},
   "outputs": [],
   "source": [
    "plt.bar(cities_offers.index, cities_offers.values)\n",
    "plt.xticks(rotation=45)\n",
    "plt.show()"
   ]
  },
  {
   "cell_type": "code",
   "execution_count": null,
   "id": "a24f6d2b-2919-4a1e-99bd-1f7df8ed9bf0",
   "metadata": {},
   "outputs": [],
   "source": [
    "plt.barh(cities_offers.index, cities_offers.values)\n",
    "plt.show()"
   ]
  },
  {
   "cell_type": "markdown",
   "id": "66759b8f-cbb1-4b9c-bba6-4d407d32b96a",
   "metadata": {},
   "source": [
    "#### Type of work"
   ]
  },
  {
   "cell_type": "code",
   "execution_count": null,
   "id": "b2d3b4d6-db6a-499a-aa68-1a2ec8c710ef",
   "metadata": {
    "scrolled": true
   },
   "outputs": [],
   "source": [
    "job_offers.groupby([\"location\", \"type_of_work\"])[\"type_of_work\"].value_counts()"
   ]
  },
  {
   "cell_type": "code",
   "execution_count": null,
   "id": "5abde6ea-9103-4b51-91e4-8ae94f7d0649",
   "metadata": {
    "scrolled": true
   },
   "outputs": [],
   "source": [
    "jobs_by_type_of_work_without_salary = job_offers.groupby([\"type_of_work\"])[\"type_of_work\"].value_counts()\n",
    "plt.bar(jobs_by_type_of_work_without_salary.index, jobs_by_type_of_work_without_salary.values)"
   ]
  },
  {
   "cell_type": "code",
   "execution_count": null,
   "id": "c2509576-59e3-41f6-b6b8-4ab55b8efb52",
   "metadata": {},
   "outputs": [],
   "source": [
    "jobs_with_salary.groupby([\"location\", \"type_of_work\"])[\"type_of_work\"].value_counts()"
   ]
  },
  {
   "cell_type": "code",
   "execution_count": null,
   "id": "fea9296d-f531-471c-b4d4-db9d7290d5d4",
   "metadata": {},
   "outputs": [],
   "source": [
    "jobs_by_type_of_work = jobs_with_salary.groupby([\"type_of_work\"])[\"type_of_work\"].value_counts()\n",
    "plt.bar(jobs_by_type_of_work.index, jobs_by_type_of_work.values)"
   ]
  },
  {
   "cell_type": "code",
   "execution_count": null,
   "id": "13ac1efa-fe51-4ce0-82c1-c93d65139e90",
   "metadata": {},
   "outputs": [],
   "source": [
    "fig, axes = plt.subplots(nrows=1, ncols=2, figsize=(14, 6))\n",
    "markers = [\"^\", \".\", ]\n",
    "colors = [\"r\", \"b\", ]\n",
    "\n",
    "axes[0].bar(jobs_by_type_of_work_without_salary.index, jobs_by_type_of_work_without_salary.values)\n",
    "axes[0].set_title(\"Jobs types with missing salaries\")\n",
    "axes[0].set_xlabel(\"Jobs types\")\n",
    "axes[0].set_ylabel(\"Amount\")\n",
    "axes[1].bar(jobs_by_type_of_work.index, jobs_by_type_of_work.values, color=\"green\")\n",
    "axes[1].set_title(\"Jobs types without missing salaries\")\n",
    "axes[1].set_xlabel(\"Jobs types\")\n",
    "axes[1].set_ylabel(\"Amount\")"
   ]
  },
  {
   "cell_type": "markdown",
   "id": "7e643b60-5d2d-4357-9d51-9046feae5ef3",
   "metadata": {},
   "source": [
    "### Technology correlation"
   ]
  },
  {
   "cell_type": "code",
   "execution_count": null,
   "id": "c13d36b4-5de7-4bcc-9f27-94c7825f05f5",
   "metadata": {},
   "outputs": [],
   "source": [
    "num_columns = len(job_offers.columns[11:])\n",
    "print(num_columns)\n",
    "print(num_columns / 50)\n",
    "print(num_columns // 50)\n",
    "print(num_columns - ((num_columns // 50) * 50))"
   ]
  },
  {
   "cell_type": "code",
   "execution_count": null,
   "id": "a26acfe6-856c-4d5a-abee-edc429f77d81",
   "metadata": {},
   "outputs": [],
   "source": [
    "import math\n",
    "\n",
    "chunk = 50\n",
    "start_cols = 11\n",
    "num_columns = len(job_offers.columns[11:])\n",
    "num_plots = math.ceil(num_columns/chunk)\n",
    "print(num_plots)\n",
    "\n",
    "cols_per_row = 2\n",
    "rows = math.ceil(num_plots/cols_per_row)\n",
    "\n",
    "fig, axes = plt.subplots(rows, cols_per_row, figsize=(cols_per_row * 12, rows * 10))\n",
    "# fig, axes = plt.subplots(rows, cols_per_row, figsize=(cols_per_row * 12, rows * 10))\n",
    "\n",
    "axes = axes.flatten()\n",
    "\n",
    "for i in range(num_plots):\n",
    "    tech_columns = job_offers.columns[start_cols: start_cols + chunk] \n",
    "    tech_df = job_offers[tech_columns]\n",
    "    corr_matrix = tech_df.corr()\n",
    "\n",
    "    sns.heatmap(corr_matrix, cmap=\"coolwarm\", annot=False, linewidths=0.5, ax=axes[i])\n",
    "    axes[i].set_title(f\"Technology correlation in job offers\")\n",
    "    # plt.title(\"Technology correlation in job offers\")\n",
    "    # plt.show()\n",
    "    start_cols = start_cols + chunk\n",
    "\n",
    "for j in range(num_plots, len(axes)):\n",
    "    axes[j].axis(\"off\")\n",
    "\n",
    "plt.tight_layout()\n",
    "plt.show()\n"
   ]
  },
  {
   "cell_type": "code",
   "execution_count": null,
   "id": "d2d21d89-20c5-4955-ad9b-bf8ba30aac1b",
   "metadata": {},
   "outputs": [],
   "source": [
    "import math\n",
    "\n",
    "chunk = 50\n",
    "start_index = 0\n",
    "start_cols = 11\n",
    "num_columns = len(job_offers.columns[11:])\n",
    "rest_int_cols = num_columns / 50\n",
    "cols_num = math.ceil(rest_int_cols)\n",
    "rest_cols = num_columns - ((num_columns // 50) * 50)\n",
    "print(rest_int_cols)\n",
    "print(math.ceil(rest_int_cols))\n",
    "\n",
    "fig, axes = plt.subplots(1, cols_num, figsize=(cols_num * 12, 10))\n",
    "\n",
    "for i in range(math.ceil(rest_int_cols)):\n",
    "    tech_columns = job_offers.columns[start_cols: start_cols + chunk] \n",
    "    tech_df = job_offers[tech_columns]\n",
    "    corr_matrix = tech_df.corr()\n",
    "    # plt.figure(figsize=(12, 10))\n",
    "    sns.heatmap(corr_matrix, cmap=\"coolwarm\", annot=False, linewidths=0.5, ax=axes[i])\n",
    "    \n",
    "    # plt.title(\"Technology correlation in job offers\")\n",
    "    # plt.show()\n",
    "    start_cols = start_cols + chunk"
   ]
  },
  {
   "cell_type": "code",
   "execution_count": null,
   "id": "ef1cf7f3-85bf-4154-b57e-1324d8217639",
   "metadata": {
    "scrolled": true
   },
   "outputs": [],
   "source": [
    "tech_columns = job_offers.columns[11:] \n",
    "tech_df = job_offers[tech_columns]\n",
    "corr_matrix = tech_df.corr()\n",
    "plt.figure(figsize=(12, 10))\n",
    "sns.heatmap(corr_matrix, cmap=\"coolwarm\", annot=False, linewidths=0.5)\n",
    "plt.title(\"Technology correlation in job offers\")\n",
    "plt.show()"
   ]
  },
  {
   "cell_type": "code",
   "execution_count": null,
   "id": "b6f679e5-0127-4b4f-8098-55c3bacaf5e9",
   "metadata": {},
   "outputs": [],
   "source": [
    "tech_columns = job_offers.columns[11:] \n",
    "tech_df = job_offers[tech_columns].sum().sort_values(ascending=False)[0:50].index\n",
    "# tech_df = job_offers[tech_columns].sum().sort_values(ascending=False).head(50).index\n",
    "corr_matrix = job_offers[tech_df].corr()\n",
    "plt.figure(figsize=(12, 10))\n",
    "sns.heatmap(corr_matrix, cmap=\"coolwarm\", annot=False, linewidths=0.5)\n",
    "plt.title(\"Technology correlation in job offers\")\n",
    "plt.show()"
   ]
  },
  {
   "cell_type": "code",
   "execution_count": null,
   "id": "48918496-14c5-400d-af3d-d151b843a059",
   "metadata": {},
   "outputs": [],
   "source": [
    "tech_columns = job_offers.columns[11:] \n",
    "tech_df = job_offers[tech_columns].sum().sort_values(ascending=False)[50:100].index\n",
    "# tech_df = job_offers[tech_columns].sum().sort_values(ascending=False).head(50).index\n",
    "corr_matrix = job_offers[tech_df].corr()\n",
    "plt.figure(figsize=(12, 10))\n",
    "sns.heatmap(corr_matrix, cmap=\"coolwarm\", annot=False, linewidths=0.5)\n",
    "plt.title(\"Technology correlation in job offers\")\n",
    "plt.show()"
   ]
  },
  {
   "cell_type": "code",
   "execution_count": null,
   "id": "cd5b54b9-2018-4634-bf74-0756642ecf39",
   "metadata": {},
   "outputs": [],
   "source": [
    "tech_columns = job_offers.columns[11:] \n",
    "tech_df = job_offers[tech_columns].sum().sort_values(ascending=False)[150:200].index\n",
    "# tech_df = job_offers[tech_columns].sum().sort_values(ascending=False).head(50).index\n",
    "corr_matrix = job_offers[tech_df].corr()\n",
    "plt.figure(figsize=(12, 10))\n",
    "sns.heatmap(corr_matrix, cmap=\"coolwarm\", annot=False, linewidths=0.5)\n",
    "plt.title(\"Technology correlation in job offers\")\n",
    "plt.show()"
   ]
  },
  {
   "cell_type": "code",
   "execution_count": null,
   "id": "5aed2f4c-afe5-4a43-ac56-f469045b7cb0",
   "metadata": {},
   "outputs": [],
   "source": [
    "len(job_offers.columns[11:])"
   ]
  },
  {
   "cell_type": "code",
   "execution_count": null,
   "id": "23498a1c-f1a2-4d77-b076-aae10ec6ffb5",
   "metadata": {
    "scrolled": true
   },
   "outputs": [],
   "source": [
    "tech_columns = job_offers.columns[11:] \n",
    "tech_columns\n",
    "tech_df = job_offers[tech_columns].sum().sort_values(ascending=False)[150:200].index\n",
    "tech_df\n",
    "corr_matrix = job_offers[tech_df].corr()\n",
    "corr_matrix\n",
    "# plt.figure(figsize=(12, 10))\n",
    "# sns.heatmap(corr_matrix, cmap=\"coolwarm\", annot=False, linewidths=0.5)\n",
    "# plt.title(\"Technology correlation in job offers\")\n",
    "# plt.show()"
   ]
  },
  {
   "cell_type": "code",
   "execution_count": null,
   "id": "3bbb9b60-ed19-49ef-ab3e-0fb752acf878",
   "metadata": {
    "scrolled": true
   },
   "outputs": [],
   "source": []
  },
  {
   "cell_type": "code",
   "execution_count": null,
   "id": "ad4f21e3-1176-4c3c-b16d-3a0138cdf091",
   "metadata": {
    "scrolled": true
   },
   "outputs": [],
   "source": [
    "corr_pairs = corr_matrix.unstack().reset_index()\n",
    "# print(corr_matrix.unstack())\n",
    "# print(corr_pairs)\n",
    "corr_pairs.columns = ['var1', 'var2', 'corr_value']\n",
    "# print(corr_pairs)\n",
    "corr_pairs = corr_pairs[corr_pairs['var1'] != corr_pairs['var2']]\n",
    "corr_pairs = corr_pairs.sort_values(by='corr_value', ascending=False)\n",
    "print(corr_pairs.head(20))"
   ]
  },
  {
   "cell_type": "code",
   "execution_count": null,
   "id": "6452916b-2e14-4b4f-8ff5-24098c618c7a",
   "metadata": {
    "scrolled": true
   },
   "outputs": [],
   "source": [
    "corr_pairs[corr_pairs[\"corr_value\"] > 0]"
   ]
  },
  {
   "cell_type": "markdown",
   "id": "5a888f82-13f8-4677-aeed-bf05b7f1acd6",
   "metadata": {},
   "source": [
    "### Write data to csv files"
   ]
  },
  {
   "cell_type": "code",
   "execution_count": null,
   "id": "90286da5-e8a1-4068-9e3f-bebb420b76ad",
   "metadata": {
    "scrolled": true
   },
   "outputs": [],
   "source": [
    "jobs_with_salary.head(10)"
   ]
  },
  {
   "cell_type": "code",
   "execution_count": null,
   "id": "c56f9467-8734-4abd-8407-6df9dde85705",
   "metadata": {},
   "outputs": [],
   "source": [
    "len(jobs_with_salary)"
   ]
  },
  {
   "cell_type": "code",
   "execution_count": null,
   "id": "9459a483-e258-412e-bdab-0259d50e0d2e",
   "metadata": {},
   "outputs": [],
   "source": [
    "len(job_offers)"
   ]
  },
  {
   "cell_type": "code",
   "execution_count": null,
   "id": "e88cfe19-63bb-44e2-9d4f-822fbca5b5c1",
   "metadata": {},
   "outputs": [],
   "source": [
    "job_offers.shape"
   ]
  },
  {
   "cell_type": "code",
   "execution_count": null,
   "id": "8ecb7857-05c9-4fd1-98bb-18ee2aec4228",
   "metadata": {},
   "outputs": [],
   "source": [
    "job_offers[:3]"
   ]
  },
  {
   "cell_type": "code",
   "execution_count": null,
   "id": "70653ff2-4fda-4477-818b-3ef1f180f328",
   "metadata": {},
   "outputs": [],
   "source": [
    "job_offers.to_csv(r\"wszystkie_dane_zlaczone_z_i_bez_salary.csv\", index=False)  # r przed ścieżką"
   ]
  },
  {
   "cell_type": "code",
   "execution_count": null,
   "id": "2ccf9e35-00de-4b33-ad96-8fbd3dc760ab",
   "metadata": {},
   "outputs": [],
   "source": [
    "jobs_with_salary.to_csv(r\"wszystkie_dane_tylko_z_salary.csv\", index=False)  # r przed ścieżką"
   ]
  }
 ],
 "metadata": {
  "kernelspec": {
   "display_name": "Python 3 (ipykernel)",
   "language": "python",
   "name": "python3"
  },
  "language_info": {
   "codemirror_mode": {
    "name": "ipython",
    "version": 3
   },
   "file_extension": ".py",
   "mimetype": "text/x-python",
   "name": "python",
   "nbconvert_exporter": "python",
   "pygments_lexer": "ipython3",
   "version": "3.12.7"
  }
 },
 "nbformat": 4,
 "nbformat_minor": 5
}
